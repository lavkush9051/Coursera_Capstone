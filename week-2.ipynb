{
    "cells": [
        {
            "metadata": {},
            "cell_type": "markdown",
            "source": "# Introduction"
        },
        {
            "metadata": {},
            "cell_type": "markdown",
            "source": "Road safety is considered one of the most important problem of the world. Accidents that occur in junctions can be slight, fatal and serious. Hence it is very important to be able to reduce the risk of severity before accidents occur. And for this project, the aim is to build a model that can predict the severity of accidents in junctions around different types of address block and collision types using attributes such as weather and light conditions."
        },
        {
            "metadata": {},
            "cell_type": "markdown",
            "source": "# Target Audience:"
        },
        {
            "metadata": {},
            "cell_type": "markdown",
            "source": "The audience of this project are the local authorities and the police. For instance, this project can help lead local authorities discover the address type where severity of a road accident is serious due to lack of road lighting, and hence this could then lead to applying new road safety measures."
        },
        {
            "metadata": {},
            "cell_type": "markdown",
            "source": "# Data"
        },
        {
            "metadata": {},
            "cell_type": "markdown",
            "source": "The features used will be: \u2022 SEVERITYCODE \u2022 ADDRTYPE \u2022 JUNCTIONTYPE \u2022 SDOT_COLDESC (Description of the collision) \u2022 WEATHER \u2022 LIGHTCOND\n\nThe data used for this study is given by the Applied Data Science Capstone course on Coursera.org via the following link https://s3.us.cloud-object-storage.appdomain.cloud/cf-courses-data/CognitiveClass/DP0701EN/version-2/Data-Collisions.csv.\n\nThe dataset has information gathered on the road traffic accidents of Seattle City. The initial dataset consists of 38 columns (features/attributes) and 194673 rows. Python packages will be used to conduct this study. The dataset will be cleaned according to the requirements of this project. Missing data information will either be substituted using valid means or dropped \u2013 considering the amount of missing data and the description of individual elements."
        },
        {
            "metadata": {},
            "cell_type": "code",
            "source": "",
            "execution_count": null,
            "outputs": []
        }
    ],
    "metadata": {
        "kernelspec": {
            "name": "python3",
            "display_name": "Python 3.6",
            "language": "python"
        },
        "language_info": {
            "name": "python",
            "version": "3.6.9",
            "mimetype": "text/x-python",
            "codemirror_mode": {
                "name": "ipython",
                "version": 3
            },
            "pygments_lexer": "ipython3",
            "nbconvert_exporter": "python",
            "file_extension": ".py"
        }
    },
    "nbformat": 4,
    "nbformat_minor": 1
}